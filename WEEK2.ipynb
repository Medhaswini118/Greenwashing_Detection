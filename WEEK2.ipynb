{
 "cells": [
  {
   "cell_type": "code",
   "execution_count": 3,
   "id": "4f0157e6-01b5-40b6-8c70-89aa1d839688",
   "metadata": {},
   "outputs": [
    {
     "name": "stdout",
     "output_type": "stream",
     "text": [
      "Requirement already satisfied: pandas in c:\\users\\medhaswini k\\appdata\\local\\programs\\python\\python313\\lib\\site-packages (2.3.2)\n",
      "Requirement already satisfied: numpy in c:\\users\\medhaswini k\\appdata\\local\\programs\\python\\python313\\lib\\site-packages (2.3.2)\n",
      "Requirement already satisfied: scikit-learn in c:\\users\\medhaswini k\\appdata\\local\\programs\\python\\python313\\lib\\site-packages (1.7.1)\n",
      "Requirement already satisfied: python-dateutil>=2.8.2 in c:\\users\\medhaswini k\\appdata\\local\\programs\\python\\python313\\lib\\site-packages (from pandas) (2.9.0.post0)\n",
      "Requirement already satisfied: pytz>=2020.1 in c:\\users\\medhaswini k\\appdata\\local\\programs\\python\\python313\\lib\\site-packages (from pandas) (2025.2)\n",
      "Requirement already satisfied: tzdata>=2022.7 in c:\\users\\medhaswini k\\appdata\\local\\programs\\python\\python313\\lib\\site-packages (from pandas) (2025.2)\n",
      "Requirement already satisfied: scipy>=1.8.0 in c:\\users\\medhaswini k\\appdata\\local\\programs\\python\\python313\\lib\\site-packages (from scikit-learn) (1.16.1)\n",
      "Requirement already satisfied: joblib>=1.2.0 in c:\\users\\medhaswini k\\appdata\\local\\programs\\python\\python313\\lib\\site-packages (from scikit-learn) (1.5.2)\n",
      "Requirement already satisfied: threadpoolctl>=3.1.0 in c:\\users\\medhaswini k\\appdata\\local\\programs\\python\\python313\\lib\\site-packages (from scikit-learn) (3.6.0)\n",
      "Requirement already satisfied: six>=1.5 in c:\\users\\medhaswini k\\appdata\\local\\programs\\python\\python313\\lib\\site-packages (from python-dateutil>=2.8.2->pandas) (1.17.0)\n"
     ]
    }
   ],
   "source": [
    "!pip install pandas numpy scikit-learn"
   ]
  },
  {
   "cell_type": "code",
   "execution_count": 4,
   "id": "9a8e9a09-cd5f-4ac8-a350-0721d2fefeb6",
   "metadata": {},
   "outputs": [
    {
     "name": "stdout",
     "output_type": "stream",
     "text": [
      "Requirement already satisfied: nltk in c:\\users\\medhaswini k\\appdata\\local\\programs\\python\\python313\\lib\\site-packages (3.9.1)\n",
      "Requirement already satisfied: click in c:\\users\\medhaswini k\\appdata\\local\\programs\\python\\python313\\lib\\site-packages (from nltk) (8.2.1)\n",
      "Requirement already satisfied: joblib in c:\\users\\medhaswini k\\appdata\\local\\programs\\python\\python313\\lib\\site-packages (from nltk) (1.5.2)\n",
      "Requirement already satisfied: regex>=2021.8.3 in c:\\users\\medhaswini k\\appdata\\local\\programs\\python\\python313\\lib\\site-packages (from nltk) (2025.8.29)\n",
      "Requirement already satisfied: tqdm in c:\\users\\medhaswini k\\appdata\\local\\programs\\python\\python313\\lib\\site-packages (from nltk) (4.67.1)\n",
      "Requirement already satisfied: colorama in c:\\users\\medhaswini k\\appdata\\local\\programs\\python\\python313\\lib\\site-packages (from click->nltk) (0.4.6)\n"
     ]
    }
   ],
   "source": [
    "!pip install nltk"
   ]
  },
  {
   "cell_type": "code",
   "execution_count": 5,
   "id": "d9440511-274a-4db8-aef1-fdd457bdca26",
   "metadata": {},
   "outputs": [],
   "source": [
    "import pandas as pd\n",
    "import numpy as np\n",
    "from sklearn.model_selection import train_test_split\n",
    "from sklearn.feature_extraction.text import TfidfVectorizer"
   ]
  },
  {
   "cell_type": "code",
   "execution_count": 6,
   "id": "1c219631-36fb-466f-a808-80684381ab15",
   "metadata": {},
   "outputs": [],
   "source": [
    "#Dataset Creation"
   ]
  },
  {
   "cell_type": "code",
   "execution_count": 20,
   "id": "a19aa8f7-59fc-49b6-917a-a5be110aa9a1",
   "metadata": {},
   "outputs": [],
   "source": [
    "import random\n",
    "\n",
    "companies = [\"EcoPlast\", \"GreenEnergyCo\", \"FastFashionX\", \"PureDrinks\", \n",
    "             \"AutoFuture\", \"FreshFoods\", \"PowerCorp\", \"Clothify\", \n",
    "             \"BioTechX\", \"UrbanFoods\"]\n",
    "\n",
    "genuine_claims = [\n",
    "    \"Our packaging is made from 100% recycled materials\",\n",
    "    \"We reduced carbon emissions by 40% in the past 5 years\",\n",
    "    \"The company sources raw materials from certified sustainable farms\",\n",
    "    \"All our factories are powered by renewable energy\",\n",
    "    \"We comply with international environmental standards ISO 14001\",\n",
    "    \"Our vehicles now run on clean electric energy\",\n",
    "    \"We conduct third-party audits on all sustainability practices\",\n",
    "    \"We have implemented strict water conservation policies\",\n",
    "    \"Our products are biodegradable and eco-certified\",\n",
    "    \"We partnered with NGOs for transparent reforestation projects\"\n",
    "]\n",
    "\n",
    "greenwashing_claims = [\n",
    "    \"Our product is eco-friendly without providing certifications\",\n",
    "    \"We are carbon neutral just because we buy carbon offsets\",\n",
    "    \"Our sustainability report highlights vague goals with no data\",\n",
    "    \"We use green labels without third-party verification\",\n",
    "    \"Our ads emphasize nature but production uses fossil fuels\",\n",
    "    \"We say 100% natural but only a small portion is natural\",\n",
    "    \"We promise zero emissions without independent audit\",\n",
    "    \"Our packaging says recyclable but local facilities can’t recycle it\",\n",
    "    \"We highlight one green initiative but ignore larger pollution issues\",\n",
    "    \"Our brand claims to be eco-safe but provides no public data\"\n",
    "]\n",
    "\n",
    "# Expand dataset\n",
    "data = []\n",
    "for _ in range(50):  # 50 genuine\n",
    "    data.append([random.choice(companies), random.choice(genuine_claims), \"genuine\"])\n",
    "for _ in range(50):  # 50 greenwashing\n",
    "    data.append([random.choice(companies), random.choice(greenwashing_claims), \"greenwashing\"])\n",
    "\n",
    "\n"
   ]
  },
  {
   "cell_type": "code",
   "execution_count": 21,
   "id": "8d98b25d-149a-4bfa-8e23-700f6d05311c",
   "metadata": {},
   "outputs": [
    {
     "name": "stdout",
     "output_type": "stream",
     "text": [
      "✅ Dataset created with size: (100, 3)\n"
     ]
    },
    {
     "data": {
      "text/html": [
       "<div>\n",
       "<style scoped>\n",
       "    .dataframe tbody tr th:only-of-type {\n",
       "        vertical-align: middle;\n",
       "    }\n",
       "\n",
       "    .dataframe tbody tr th {\n",
       "        vertical-align: top;\n",
       "    }\n",
       "\n",
       "    .dataframe thead th {\n",
       "        text-align: right;\n",
       "    }\n",
       "</style>\n",
       "<table border=\"1\" class=\"dataframe\">\n",
       "  <thead>\n",
       "    <tr style=\"text-align: right;\">\n",
       "      <th></th>\n",
       "      <th>Company</th>\n",
       "      <th>Claim</th>\n",
       "      <th>Label</th>\n",
       "    </tr>\n",
       "  </thead>\n",
       "  <tbody>\n",
       "    <tr>\n",
       "      <th>0</th>\n",
       "      <td>UrbanFoods</td>\n",
       "      <td>We reduced carbon emissions by 40% in the past...</td>\n",
       "      <td>genuine</td>\n",
       "    </tr>\n",
       "    <tr>\n",
       "      <th>1</th>\n",
       "      <td>UrbanFoods</td>\n",
       "      <td>The company sources raw materials from certifi...</td>\n",
       "      <td>genuine</td>\n",
       "    </tr>\n",
       "    <tr>\n",
       "      <th>2</th>\n",
       "      <td>BioTechX</td>\n",
       "      <td>We comply with international environmental sta...</td>\n",
       "      <td>genuine</td>\n",
       "    </tr>\n",
       "    <tr>\n",
       "      <th>3</th>\n",
       "      <td>BioTechX</td>\n",
       "      <td>Our products are biodegradable and eco-certified</td>\n",
       "      <td>genuine</td>\n",
       "    </tr>\n",
       "    <tr>\n",
       "      <th>4</th>\n",
       "      <td>Clothify</td>\n",
       "      <td>Our packaging is made from 100% recycled mater...</td>\n",
       "      <td>genuine</td>\n",
       "    </tr>\n",
       "  </tbody>\n",
       "</table>\n",
       "</div>"
      ],
      "text/plain": [
       "      Company                                              Claim    Label\n",
       "0  UrbanFoods  We reduced carbon emissions by 40% in the past...  genuine\n",
       "1  UrbanFoods  The company sources raw materials from certifi...  genuine\n",
       "2    BioTechX  We comply with international environmental sta...  genuine\n",
       "3    BioTechX   Our products are biodegradable and eco-certified  genuine\n",
       "4    Clothify  Our packaging is made from 100% recycled mater...  genuine"
      ]
     },
     "execution_count": 21,
     "metadata": {},
     "output_type": "execute_result"
    }
   ],
   "source": [
    "df = pd.DataFrame(data, columns=[\"Company\", \"Claim\", \"Label\"])\n",
    "print(\"✅ Dataset created with size:\", df.shape)\n",
    "df.head()"
   ]
  },
  {
   "cell_type": "code",
   "execution_count": 22,
   "id": "a3003d47-a1d5-4cd5-a295-fe9677612c83",
   "metadata": {},
   "outputs": [
    {
     "name": "stdout",
     "output_type": "stream",
     "text": [
      "Shape: (100, 3)\n"
     ]
    }
   ],
   "source": [
    "print(\"Shape:\", df.shape)"
   ]
  },
  {
   "cell_type": "code",
   "execution_count": 23,
   "id": "94f63593-fc4d-4656-9c39-8e3e57d7f6f3",
   "metadata": {},
   "outputs": [
    {
     "name": "stdout",
     "output_type": "stream",
     "text": [
      "\n",
      "Missing values:\n",
      " Company    0\n",
      "Claim      0\n",
      "Label      0\n",
      "dtype: int64\n"
     ]
    }
   ],
   "source": [
    "print(\"\\nMissing values:\\n\", df.isnull().sum())"
   ]
  },
  {
   "cell_type": "code",
   "execution_count": 24,
   "id": "8c58d81c-a74e-4a07-9fa3-37b162586403",
   "metadata": {},
   "outputs": [
    {
     "name": "stdout",
     "output_type": "stream",
     "text": [
      "\n",
      "Label counts:\n",
      " Label\n",
      "genuine         50\n",
      "greenwashing    50\n",
      "Name: count, dtype: int64\n"
     ]
    }
   ],
   "source": [
    "print(\"\\nLabel counts:\\n\", df['Label'].value_counts())"
   ]
  },
  {
   "cell_type": "code",
   "execution_count": 25,
   "id": "d3ba62d4-ab18-401e-941b-e4d17f723202",
   "metadata": {},
   "outputs": [],
   "source": [
    "#Pre-Processing step1- Data Cleaning"
   ]
  },
  {
   "cell_type": "code",
   "execution_count": 26,
   "id": "a1ce0db8-c883-4a38-83b6-9f54f709491b",
   "metadata": {},
   "outputs": [
    {
     "data": {
      "text/html": [
       "<div>\n",
       "<style scoped>\n",
       "    .dataframe tbody tr th:only-of-type {\n",
       "        vertical-align: middle;\n",
       "    }\n",
       "\n",
       "    .dataframe tbody tr th {\n",
       "        vertical-align: top;\n",
       "    }\n",
       "\n",
       "    .dataframe thead th {\n",
       "        text-align: right;\n",
       "    }\n",
       "</style>\n",
       "<table border=\"1\" class=\"dataframe\">\n",
       "  <thead>\n",
       "    <tr style=\"text-align: right;\">\n",
       "      <th></th>\n",
       "      <th>Claim</th>\n",
       "      <th>Cleaned_Claim</th>\n",
       "    </tr>\n",
       "  </thead>\n",
       "  <tbody>\n",
       "    <tr>\n",
       "      <th>0</th>\n",
       "      <td>We reduced carbon emissions by 40% in the past...</td>\n",
       "      <td>we reduced carbon emissions by in the past years</td>\n",
       "    </tr>\n",
       "    <tr>\n",
       "      <th>1</th>\n",
       "      <td>The company sources raw materials from certifi...</td>\n",
       "      <td>the company sources raw materials from certifi...</td>\n",
       "    </tr>\n",
       "    <tr>\n",
       "      <th>2</th>\n",
       "      <td>We comply with international environmental sta...</td>\n",
       "      <td>we comply with international environmental sta...</td>\n",
       "    </tr>\n",
       "    <tr>\n",
       "      <th>3</th>\n",
       "      <td>Our products are biodegradable and eco-certified</td>\n",
       "      <td>our products are biodegradable and ecocertified</td>\n",
       "    </tr>\n",
       "    <tr>\n",
       "      <th>4</th>\n",
       "      <td>Our packaging is made from 100% recycled mater...</td>\n",
       "      <td>our packaging is made from recycled materials</td>\n",
       "    </tr>\n",
       "    <tr>\n",
       "      <th>...</th>\n",
       "      <td>...</td>\n",
       "      <td>...</td>\n",
       "    </tr>\n",
       "    <tr>\n",
       "      <th>95</th>\n",
       "      <td>Our brand claims to be eco-safe but provides n...</td>\n",
       "      <td>our brand claims to be ecosafe but provides no...</td>\n",
       "    </tr>\n",
       "    <tr>\n",
       "      <th>96</th>\n",
       "      <td>We say 100% natural but only a small portion i...</td>\n",
       "      <td>we say natural but only a small portion is nat...</td>\n",
       "    </tr>\n",
       "    <tr>\n",
       "      <th>97</th>\n",
       "      <td>We say 100% natural but only a small portion i...</td>\n",
       "      <td>we say natural but only a small portion is nat...</td>\n",
       "    </tr>\n",
       "    <tr>\n",
       "      <th>98</th>\n",
       "      <td>Our packaging says recyclable but local facili...</td>\n",
       "      <td>our packaging says recyclable but local facili...</td>\n",
       "    </tr>\n",
       "    <tr>\n",
       "      <th>99</th>\n",
       "      <td>Our product is eco-friendly without providing ...</td>\n",
       "      <td>our product is ecofriendly without providing c...</td>\n",
       "    </tr>\n",
       "  </tbody>\n",
       "</table>\n",
       "<p>100 rows × 2 columns</p>\n",
       "</div>"
      ],
      "text/plain": [
       "                                                Claim  \\\n",
       "0   We reduced carbon emissions by 40% in the past...   \n",
       "1   The company sources raw materials from certifi...   \n",
       "2   We comply with international environmental sta...   \n",
       "3    Our products are biodegradable and eco-certified   \n",
       "4   Our packaging is made from 100% recycled mater...   \n",
       "..                                                ...   \n",
       "95  Our brand claims to be eco-safe but provides n...   \n",
       "96  We say 100% natural but only a small portion i...   \n",
       "97  We say 100% natural but only a small portion i...   \n",
       "98  Our packaging says recyclable but local facili...   \n",
       "99  Our product is eco-friendly without providing ...   \n",
       "\n",
       "                                        Cleaned_Claim  \n",
       "0    we reduced carbon emissions by in the past years  \n",
       "1   the company sources raw materials from certifi...  \n",
       "2   we comply with international environmental sta...  \n",
       "3     our products are biodegradable and ecocertified  \n",
       "4       our packaging is made from recycled materials  \n",
       "..                                                ...  \n",
       "95  our brand claims to be ecosafe but provides no...  \n",
       "96  we say natural but only a small portion is nat...  \n",
       "97  we say natural but only a small portion is nat...  \n",
       "98  our packaging says recyclable but local facili...  \n",
       "99  our product is ecofriendly without providing c...  \n",
       "\n",
       "[100 rows x 2 columns]"
      ]
     },
     "execution_count": 26,
     "metadata": {},
     "output_type": "execute_result"
    }
   ],
   "source": [
    "import re\n",
    "\n",
    "def clean_text(text):\n",
    "    text = text.lower()                     # lowercase\n",
    "    text = re.sub(r'[^a-z\\s]', '', text)    # keep only letters and spaces\n",
    "    text = re.sub(r'\\s+', ' ', text).strip() # remove extra spaces\n",
    "    return text\n",
    "\n",
    "df['Cleaned_Claim'] = df['Claim'].apply(clean_text)\n",
    "df[['Claim', 'Cleaned_Claim']]"
   ]
  },
  {
   "cell_type": "code",
   "execution_count": 27,
   "id": "271f1c19-f6ad-47da-a5e7-ce633e113d99",
   "metadata": {},
   "outputs": [
    {
     "name": "stdout",
     "output_type": "stream",
     "text": [
      "Training size: 80\n",
      "Testing size: 20\n"
     ]
    }
   ],
   "source": [
    "from sklearn.model_selection import train_test_split\n",
    "\n",
    "X = df['Cleaned_Claim']   # feature\n",
    "y = df['Label']           # target\n",
    "\n",
    "X_train, X_test, y_train, y_test = train_test_split(\n",
    "    X, y, test_size=0.2, random_state=42, stratify=y\n",
    ")\n",
    "\n",
    "print(\"Training size:\", X_train.shape[0])\n",
    "print(\"Testing size:\", X_test.shape[0])"
   ]
  },
  {
   "cell_type": "code",
   "execution_count": 28,
   "id": "04ee2e9b-e8af-4ca8-bc01-d0f5e07bb3eb",
   "metadata": {},
   "outputs": [],
   "source": [
    "#Step2 - text vectorization"
   ]
  },
  {
   "cell_type": "code",
   "execution_count": 29,
   "id": "ba55fab8-86e5-4b61-ac99-71851d2a8f6c",
   "metadata": {},
   "outputs": [
    {
     "name": "stdout",
     "output_type": "stream",
     "text": [
      "TF-IDF shape (train): (80, 93)\n",
      "TF-IDF shape (test): (20, 93)\n"
     ]
    }
   ],
   "source": [
    "from sklearn.feature_extraction.text import TfidfVectorizer\n",
    "\n",
    "vectorizer = TfidfVectorizer(max_features=1000, stop_words='english')\n",
    "\n",
    "X_train_tfidf = vectorizer.fit_transform(X_train)\n",
    "X_test_tfidf = vectorizer.transform(X_test)\n",
    "\n",
    "print(\"TF-IDF shape (train):\", X_train_tfidf.shape)\n",
    "print(\"TF-IDF shape (test):\", X_test_tfidf.shape)"
   ]
  },
  {
   "cell_type": "code",
   "execution_count": 30,
   "id": "a4fae018-6c0c-4fd7-bd3a-01be3adb0b69",
   "metadata": {},
   "outputs": [],
   "source": [
    "from sklearn.linear_model import LogisticRegression\n",
    "from sklearn.metrics import accuracy_score, classification_report, confusion_matrix\n",
    "\n",
    "# Initialize model\n",
    "log_reg = LogisticRegression(max_iter=1000)\n",
    "\n",
    "log_reg.fit(X_train_tfidf, y_train)\n",
    "\n",
    "y_pred = log_reg.predict(X_test_tfidf)\n"
   ]
  },
  {
   "cell_type": "code",
   "execution_count": 31,
   "id": "4eccd6b3-8d85-4716-961b-b26a90b06094",
   "metadata": {},
   "outputs": [
    {
     "name": "stdout",
     "output_type": "stream",
     "text": [
      "✅ Logistic Regression Accuracy: 1.0\n",
      "\n",
      "📌 Classification Report:\n",
      "\n",
      "              precision    recall  f1-score   support\n",
      "\n",
      "     genuine       1.00      1.00      1.00        10\n",
      "greenwashing       1.00      1.00      1.00        10\n",
      "\n",
      "    accuracy                           1.00        20\n",
      "   macro avg       1.00      1.00      1.00        20\n",
      "weighted avg       1.00      1.00      1.00        20\n",
      "\n",
      "\n",
      "📌 Confusion Matrix:\n",
      " [[10  0]\n",
      " [ 0 10]]\n"
     ]
    }
   ],
   "source": [
    "accuracy = accuracy_score(y_test, y_pred)\n",
    "print(\"✅ Logistic Regression Accuracy:\", accuracy)\n",
    "\n",
    "print(\"\\n📌 Classification Report:\\n\")\n",
    "print(classification_report(y_test, y_pred))\n",
    "\n",
    "cm = confusion_matrix(y_test, y_pred)\n",
    "print(\"\\n📌 Confusion Matrix:\\n\", cm)\n"
   ]
  },
  {
   "cell_type": "code",
   "execution_count": 32,
   "id": "28af03fd-2757-4548-9c33-091c7fa3c4ea",
   "metadata": {},
   "outputs": [
    {
     "name": "stdout",
     "output_type": "stream",
     "text": [
      "✅ Logistic Regression Accuracy: 1.00\n",
      "✅ Naive Bayes Accuracy: 1.00\n",
      "✅ SVM Accuracy: 1.00\n"
     ]
    }
   ],
   "source": [
    "from sklearn.naive_bayes import MultinomialNB\n",
    "from sklearn.svm import LinearSVC\n",
    "\n",
    "# Define multiple models\n",
    "models = {\n",
    "    \"Logistic Regression\": LogisticRegression(max_iter=1000),\n",
    "    \"Naive Bayes\": MultinomialNB(),\n",
    "    \"SVM\": LinearSVC()\n",
    "}\n",
    "\n",
    "results = {}\n",
    "\n",
    "# Train & evaluate\n",
    "for name, clf in models.items():\n",
    "    clf.fit(X_train_tfidf, y_train)\n",
    "    y_pred = clf.predict(X_test_tfidf)\n",
    "    acc = accuracy_score(y_test, y_pred)\n",
    "    results[name] = acc\n",
    "    print(f\"✅ {name} Accuracy: {acc:.2f}\")\n",
    "\n"
   ]
  },
  {
   "cell_type": "code",
   "execution_count": 33,
   "id": "a43276da-54d9-4387-ba2c-62864bea82e8",
   "metadata": {},
   "outputs": [
    {
     "name": "stdout",
     "output_type": "stream",
     "text": [
      "\n",
      "📌 Model Comparison:\n",
      "\n",
      "                 Model  Accuracy\n",
      "0  Logistic Regression       1.0\n",
      "1          Naive Bayes       1.0\n",
      "2                  SVM       1.0\n"
     ]
    }
   ],
   "source": [
    "import pandas as pd\n",
    "\n",
    "results_df = pd.DataFrame(list(results.items()), columns=[\"Model\", \"Accuracy\"])\n",
    "print(\"\\n📌 Model Comparison:\\n\")\n",
    "print(results_df)\n"
   ]
  },
  {
   "cell_type": "code",
   "execution_count": 34,
   "id": "e59b49b8-3dcc-45bc-a8a4-cd42039be2f2",
   "metadata": {},
   "outputs": [
    {
     "name": "stdout",
     "output_type": "stream",
     "text": [
      "\n",
      "🏆 Best Model: Logistic Regression with Accuracy 1.00\n",
      "\n",
      "📌 Classification Report:\n",
      "\n",
      "              precision    recall  f1-score   support\n",
      "\n",
      "     genuine       1.00      1.00      1.00        10\n",
      "greenwashing       1.00      1.00      1.00        10\n",
      "\n",
      "    accuracy                           1.00        20\n",
      "   macro avg       1.00      1.00      1.00        20\n",
      "weighted avg       1.00      1.00      1.00        20\n",
      "\n",
      "\n",
      "📌 Confusion Matrix:\n",
      "\n",
      "[[10  0]\n",
      " [ 0 10]]\n"
     ]
    }
   ],
   "source": [
    "best_model_name = max(results, key=results.get)\n",
    "best_model = models[best_model_name]\n",
    "\n",
    "print(f\"\\n🏆 Best Model: {best_model_name} with Accuracy {results[best_model_name]:.2f}\\n\")\n",
    "\n",
    "y_pred_best = best_model.predict(X_test_tfidf)\n",
    "\n",
    "print(\"📌 Classification Report:\\n\")\n",
    "print(classification_report(y_test, y_pred_best))\n",
    "\n",
    "print(\"\\n📌 Confusion Matrix:\\n\")\n",
    "print(confusion_matrix(y_test, y_pred_best))\n"
   ]
  },
  {
   "cell_type": "code",
   "execution_count": 37,
   "id": "54009931-4911-44e4-8402-c0026b2a4c98",
   "metadata": {
    "collapsed": true,
    "jupyter": {
     "outputs_hidden": true
    }
   },
   "outputs": [
    {
     "name": "stdout",
     "output_type": "stream",
     "text": [
      "Collecting matplotlib\n",
      "  Downloading matplotlib-3.10.6-cp313-cp313-win_amd64.whl.metadata (11 kB)\n",
      "Collecting seaborn\n",
      "  Downloading seaborn-0.13.2-py3-none-any.whl.metadata (5.4 kB)\n",
      "Collecting contourpy>=1.0.1 (from matplotlib)\n",
      "  Downloading contourpy-1.3.3-cp313-cp313-win_amd64.whl.metadata (5.5 kB)\n",
      "Collecting cycler>=0.10 (from matplotlib)\n",
      "  Downloading cycler-0.12.1-py3-none-any.whl.metadata (3.8 kB)\n",
      "Collecting fonttools>=4.22.0 (from matplotlib)\n",
      "  Downloading fonttools-4.59.2-cp313-cp313-win_amd64.whl.metadata (111 kB)\n",
      "Collecting kiwisolver>=1.3.1 (from matplotlib)\n",
      "  Downloading kiwisolver-1.4.9-cp313-cp313-win_amd64.whl.metadata (6.4 kB)\n",
      "Requirement already satisfied: numpy>=1.23 in c:\\users\\medhaswini k\\appdata\\local\\programs\\python\\python313\\lib\\site-packages (from matplotlib) (2.3.2)\n",
      "Requirement already satisfied: packaging>=20.0 in c:\\users\\medhaswini k\\appdata\\local\\programs\\python\\python313\\lib\\site-packages (from matplotlib) (25.0)\n",
      "Collecting pillow>=8 (from matplotlib)\n",
      "  Downloading pillow-11.3.0-cp313-cp313-win_amd64.whl.metadata (9.2 kB)\n",
      "Collecting pyparsing>=2.3.1 (from matplotlib)\n",
      "  Downloading pyparsing-3.2.3-py3-none-any.whl.metadata (5.0 kB)\n",
      "Requirement already satisfied: python-dateutil>=2.7 in c:\\users\\medhaswini k\\appdata\\local\\programs\\python\\python313\\lib\\site-packages (from matplotlib) (2.9.0.post0)\n",
      "Requirement already satisfied: pandas>=1.2 in c:\\users\\medhaswini k\\appdata\\local\\programs\\python\\python313\\lib\\site-packages (from seaborn) (2.3.2)\n",
      "Requirement already satisfied: pytz>=2020.1 in c:\\users\\medhaswini k\\appdata\\local\\programs\\python\\python313\\lib\\site-packages (from pandas>=1.2->seaborn) (2025.2)\n",
      "Requirement already satisfied: tzdata>=2022.7 in c:\\users\\medhaswini k\\appdata\\local\\programs\\python\\python313\\lib\\site-packages (from pandas>=1.2->seaborn) (2025.2)\n",
      "Requirement already satisfied: six>=1.5 in c:\\users\\medhaswini k\\appdata\\local\\programs\\python\\python313\\lib\\site-packages (from python-dateutil>=2.7->matplotlib) (1.17.0)\n",
      "Downloading matplotlib-3.10.6-cp313-cp313-win_amd64.whl (8.1 MB)\n",
      "   ---------------------------------------- 0.0/8.1 MB ? eta -:--:--\n",
      "   - -------------------------------------- 0.3/8.1 MB ? eta -:--:--\n",
      "   -- ------------------------------------- 0.5/8.1 MB 1.5 MB/s eta 0:00:05\n",
      "   --- ------------------------------------ 0.8/8.1 MB 1.5 MB/s eta 0:00:05\n",
      "   ----- ---------------------------------- 1.0/8.1 MB 1.5 MB/s eta 0:00:05\n",
      "   ------ --------------------------------- 1.3/8.1 MB 1.2 MB/s eta 0:00:06\n",
      "   ------ --------------------------------- 1.3/8.1 MB 1.2 MB/s eta 0:00:06\n",
      "   ------- -------------------------------- 1.6/8.1 MB 1.1 MB/s eta 0:00:06\n",
      "   --------- ------------------------------ 1.8/8.1 MB 1.2 MB/s eta 0:00:06\n",
      "   ---------- ----------------------------- 2.1/8.1 MB 1.2 MB/s eta 0:00:05\n",
      "   ------------ --------------------------- 2.6/8.1 MB 1.2 MB/s eta 0:00:05\n",
      "   -------------- ------------------------- 2.9/8.1 MB 1.3 MB/s eta 0:00:05\n",
      "   --------------- ------------------------ 3.1/8.1 MB 1.2 MB/s eta 0:00:04\n",
      "   ---------------- ----------------------- 3.4/8.1 MB 1.3 MB/s eta 0:00:04\n",
      "   ------------------ --------------------- 3.7/8.1 MB 1.3 MB/s eta 0:00:04\n",
      "   ------------------- -------------------- 3.9/8.1 MB 1.3 MB/s eta 0:00:04\n",
      "   -------------------- ------------------- 4.2/8.1 MB 1.3 MB/s eta 0:00:04\n",
      "   --------------------- ------------------ 4.5/8.1 MB 1.3 MB/s eta 0:00:03\n",
      "   ------------------------ --------------- 5.0/8.1 MB 1.3 MB/s eta 0:00:03\n",
      "   ------------------------- -------------- 5.2/8.1 MB 1.3 MB/s eta 0:00:03\n",
      "   --------------------------- ------------ 5.5/8.1 MB 1.3 MB/s eta 0:00:02\n",
      "   ---------------------------- ----------- 5.8/8.1 MB 1.3 MB/s eta 0:00:02\n",
      "   ----------------------------- ---------- 6.0/8.1 MB 1.3 MB/s eta 0:00:02\n",
      "   -------------------------------- ------- 6.6/8.1 MB 1.4 MB/s eta 0:00:02\n",
      "   --------------------------------- ------ 6.8/8.1 MB 1.4 MB/s eta 0:00:01\n",
      "   ---------------------------------- ----- 7.1/8.1 MB 1.4 MB/s eta 0:00:01\n",
      "   ------------------------------------ --- 7.3/8.1 MB 1.4 MB/s eta 0:00:01\n",
      "   ------------------------------------- -- 7.6/8.1 MB 1.3 MB/s eta 0:00:01\n",
      "   -------------------------------------- - 7.9/8.1 MB 1.4 MB/s eta 0:00:01\n",
      "   ---------------------------------------- 8.1/8.1 MB 1.3 MB/s  0:00:06\n",
      "Downloading seaborn-0.13.2-py3-none-any.whl (294 kB)\n",
      "Downloading contourpy-1.3.3-cp313-cp313-win_amd64.whl (226 kB)\n",
      "Downloading cycler-0.12.1-py3-none-any.whl (8.3 kB)\n",
      "Downloading fonttools-4.59.2-cp313-cp313-win_amd64.whl (2.3 MB)\n",
      "   ---------------------------------------- 0.0/2.3 MB ? eta -:--:--\n",
      "   ---- ----------------------------------- 0.3/2.3 MB ? eta -:--:--\n",
      "   --------- ------------------------------ 0.5/2.3 MB 1.3 MB/s eta 0:00:02\n",
      "   ------------- -------------------------- 0.8/2.3 MB 1.3 MB/s eta 0:00:02\n",
      "   ------------------ --------------------- 1.0/2.3 MB 1.2 MB/s eta 0:00:01\n",
      "   ----------------------- ---------------- 1.3/2.3 MB 1.2 MB/s eta 0:00:01\n",
      "   --------------------------- ------------ 1.6/2.3 MB 1.2 MB/s eta 0:00:01\n",
      "   -------------------------------- ------- 1.8/2.3 MB 1.2 MB/s eta 0:00:01\n",
      "   ------------------------------------- -- 2.1/2.3 MB 1.2 MB/s eta 0:00:01\n",
      "   ---------------------------------------- 2.3/2.3 MB 1.2 MB/s  0:00:01\n",
      "Downloading kiwisolver-1.4.9-cp313-cp313-win_amd64.whl (73 kB)\n",
      "Downloading pillow-11.3.0-cp313-cp313-win_amd64.whl (7.0 MB)\n",
      "   ---------------------------------------- 0.0/7.0 MB ? eta -:--:--\n",
      "   ---------------------------------------- 0.0/7.0 MB ? eta -:--:--\n",
      "   - -------------------------------------- 0.3/7.0 MB ? eta -:--:--\n",
      "   - -------------------------------------- 0.3/7.0 MB ? eta -:--:--\n",
      "   --- ------------------------------------ 0.5/7.0 MB 640.5 kB/s eta 0:00:11\n",
      "   --- ------------------------------------ 0.5/7.0 MB 640.5 kB/s eta 0:00:11\n",
      "   --- ------------------------------------ 0.5/7.0 MB 640.5 kB/s eta 0:00:11\n",
      "   ---- ----------------------------------- 0.8/7.0 MB 435.4 kB/s eta 0:00:15\n",
      "   ---- ----------------------------------- 0.8/7.0 MB 435.4 kB/s eta 0:00:15\n",
      "   ------ --------------------------------- 1.0/7.0 MB 471.5 kB/s eta 0:00:13\n",
      "   ------ --------------------------------- 1.0/7.0 MB 471.5 kB/s eta 0:00:13\n",
      "   ------- -------------------------------- 1.3/7.0 MB 503.5 kB/s eta 0:00:12\n",
      "   --------- ------------------------------ 1.6/7.0 MB 575.6 kB/s eta 0:00:10\n",
      "   ---------- ----------------------------- 1.8/7.0 MB 635.6 kB/s eta 0:00:09\n",
      "   ------------ --------------------------- 2.1/7.0 MB 687.1 kB/s eta 0:00:08\n",
      "   ------------- -------------------------- 2.4/7.0 MB 721.7 kB/s eta 0:00:07\n",
      "   --------------- ------------------------ 2.6/7.0 MB 758.9 kB/s eta 0:00:06\n",
      "   ---------------- ----------------------- 2.9/7.0 MB 798.4 kB/s eta 0:00:06\n",
      "   ------------------ --------------------- 3.1/7.0 MB 834.0 kB/s eta 0:00:05\n",
      "   ------------------- -------------------- 3.4/7.0 MB 871.3 kB/s eta 0:00:05\n",
      "   ---------------------- ----------------- 3.9/7.0 MB 923.1 kB/s eta 0:00:04\n",
      "   ------------------------ --------------- 4.2/7.0 MB 936.3 kB/s eta 0:00:03\n",
      "   ------------------------ --------------- 4.2/7.0 MB 936.3 kB/s eta 0:00:03\n",
      "   ------------------------- -------------- 4.5/7.0 MB 908.2 kB/s eta 0:00:03\n",
      "   --------------------------- ------------ 4.7/7.0 MB 932.6 kB/s eta 0:00:03\n",
      "   ---------------------------- ----------- 5.0/7.0 MB 945.5 kB/s eta 0:00:03\n",
      "   ------------------------------ --------- 5.2/7.0 MB 964.6 kB/s eta 0:00:02\n",
      "   ------------------------------- -------- 5.5/7.0 MB 982.7 kB/s eta 0:00:02\n",
      "   ---------------------------------- ----- 6.0/7.0 MB 1.0 MB/s eta 0:00:01\n",
      "   ------------------------------------ --- 6.3/7.0 MB 1.0 MB/s eta 0:00:01\n",
      "   ------------------------------------- -- 6.6/7.0 MB 1.0 MB/s eta 0:00:01\n",
      "   ---------------------------------------  6.8/7.0 MB 1.0 MB/s eta 0:00:01\n",
      "   ---------------------------------------- 7.0/7.0 MB 1.0 MB/s  0:00:06\n",
      "Downloading pyparsing-3.2.3-py3-none-any.whl (111 kB)\n",
      "Installing collected packages: pyparsing, pillow, kiwisolver, fonttools, cycler, contourpy, matplotlib, seaborn\n",
      "\n",
      "   ---------------------------------------- 0/8 [pyparsing]\n",
      "   ---------------------------------------- 0/8 [pyparsing]\n",
      "   ---------------------------------------- 0/8 [pyparsing]\n",
      "   ----- ---------------------------------- 1/8 [pillow]\n",
      "   ----- ---------------------------------- 1/8 [pillow]\n",
      "   ----- ---------------------------------- 1/8 [pillow]\n",
      "   ----- ---------------------------------- 1/8 [pillow]\n",
      "   ----- ---------------------------------- 1/8 [pillow]\n",
      "   ----- ---------------------------------- 1/8 [pillow]\n",
      "   ----- ---------------------------------- 1/8 [pillow]\n",
      "   ----- ---------------------------------- 1/8 [pillow]\n",
      "   ----- ---------------------------------- 1/8 [pillow]\n",
      "   ----- ---------------------------------- 1/8 [pillow]\n",
      "   ----- ---------------------------------- 1/8 [pillow]\n",
      "   ----- ---------------------------------- 1/8 [pillow]\n",
      "   ----- ---------------------------------- 1/8 [pillow]\n",
      "   ----- ---------------------------------- 1/8 [pillow]\n",
      "   ----- ---------------------------------- 1/8 [pillow]\n",
      "   ----- ---------------------------------- 1/8 [pillow]\n",
      "   ----- ---------------------------------- 1/8 [pillow]\n",
      "   ----- ---------------------------------- 1/8 [pillow]\n",
      "   ----- ---------------------------------- 1/8 [pillow]\n",
      "   ----- ---------------------------------- 1/8 [pillow]\n",
      "   ---------- ----------------------------- 2/8 [kiwisolver]\n",
      "   --------------- ------------------------ 3/8 [fonttools]\n",
      "   --------------- ------------------------ 3/8 [fonttools]\n",
      "   --------------- ------------------------ 3/8 [fonttools]\n",
      "   --------------- ------------------------ 3/8 [fonttools]\n",
      "   --------------- ------------------------ 3/8 [fonttools]\n",
      "   --------------- ------------------------ 3/8 [fonttools]\n",
      "   --------------- ------------------------ 3/8 [fonttools]\n",
      "   --------------- ------------------------ 3/8 [fonttools]\n",
      "   --------------- ------------------------ 3/8 [fonttools]\n",
      "   --------------- ------------------------ 3/8 [fonttools]\n",
      "   --------------- ------------------------ 3/8 [fonttools]\n",
      "   --------------- ------------------------ 3/8 [fonttools]\n",
      "   --------------- ------------------------ 3/8 [fonttools]\n",
      "   --------------- ------------------------ 3/8 [fonttools]\n",
      "   --------------- ------------------------ 3/8 [fonttools]\n",
      "   --------------- ------------------------ 3/8 [fonttools]\n",
      "   --------------- ------------------------ 3/8 [fonttools]\n",
      "   --------------- ------------------------ 3/8 [fonttools]\n",
      "   --------------- ------------------------ 3/8 [fonttools]\n",
      "   --------------- ------------------------ 3/8 [fonttools]\n",
      "   --------------- ------------------------ 3/8 [fonttools]\n",
      "   --------------- ------------------------ 3/8 [fonttools]\n",
      "   --------------- ------------------------ 3/8 [fonttools]\n",
      "   --------------- ------------------------ 3/8 [fonttools]\n",
      "   --------------- ------------------------ 3/8 [fonttools]\n",
      "   --------------- ------------------------ 3/8 [fonttools]\n",
      "   --------------- ------------------------ 3/8 [fonttools]\n",
      "   --------------- ------------------------ 3/8 [fonttools]\n",
      "   --------------- ------------------------ 3/8 [fonttools]\n",
      "   --------------- ------------------------ 3/8 [fonttools]\n",
      "   --------------- ------------------------ 3/8 [fonttools]\n",
      "   --------------- ------------------------ 3/8 [fonttools]\n",
      "   --------------- ------------------------ 3/8 [fonttools]\n",
      "   --------------- ------------------------ 3/8 [fonttools]\n",
      "   --------------- ------------------------ 3/8 [fonttools]\n",
      "   --------------- ------------------------ 3/8 [fonttools]\n",
      "   --------------- ------------------------ 3/8 [fonttools]\n",
      "   --------------- ------------------------ 3/8 [fonttools]\n",
      "   --------------- ------------------------ 3/8 [fonttools]\n",
      "   --------------- ------------------------ 3/8 [fonttools]\n",
      "   --------------- ------------------------ 3/8 [fonttools]\n",
      "   --------------- ------------------------ 3/8 [fonttools]\n",
      "   --------------- ------------------------ 3/8 [fonttools]\n",
      "   --------------- ------------------------ 3/8 [fonttools]\n",
      "   --------------- ------------------------ 3/8 [fonttools]\n",
      "   --------------- ------------------------ 3/8 [fonttools]\n",
      "   --------------- ------------------------ 3/8 [fonttools]\n",
      "   --------------- ------------------------ 3/8 [fonttools]\n",
      "   --------------- ------------------------ 3/8 [fonttools]\n",
      "   --------------- ------------------------ 3/8 [fonttools]\n",
      "   --------------- ------------------------ 3/8 [fonttools]\n",
      "   --------------- ------------------------ 3/8 [fonttools]\n",
      "   --------------- ------------------------ 3/8 [fonttools]\n",
      "   --------------- ------------------------ 3/8 [fonttools]\n",
      "   --------------- ------------------------ 3/8 [fonttools]\n",
      "   --------------- ------------------------ 3/8 [fonttools]\n",
      "   --------------- ------------------------ 3/8 [fonttools]\n",
      "   --------------- ------------------------ 3/8 [fonttools]\n",
      "   --------------- ------------------------ 3/8 [fonttools]\n",
      "   --------------- ------------------------ 3/8 [fonttools]\n",
      "   --------------- ------------------------ 3/8 [fonttools]\n",
      "   --------------- ------------------------ 3/8 [fonttools]\n",
      "   --------------- ------------------------ 3/8 [fonttools]\n",
      "   --------------- ------------------------ 3/8 [fonttools]\n",
      "   --------------- ------------------------ 3/8 [fonttools]\n",
      "   --------------- ------------------------ 3/8 [fonttools]\n",
      "   --------------- ------------------------ 3/8 [fonttools]\n",
      "   --------------- ------------------------ 3/8 [fonttools]\n",
      "   -------------------- ------------------- 4/8 [cycler]\n",
      "   ------------------------- -------------- 5/8 [contourpy]\n",
      "   ------------------------- -------------- 5/8 [contourpy]\n",
      "   ------------------------- -------------- 5/8 [contourpy]\n",
      "   ------------------------------ --------- 6/8 [matplotlib]\n",
      "   ------------------------------ --------- 6/8 [matplotlib]\n",
      "   ------------------------------ --------- 6/8 [matplotlib]\n",
      "   ------------------------------ --------- 6/8 [matplotlib]\n",
      "   ------------------------------ --------- 6/8 [matplotlib]\n",
      "   ------------------------------ --------- 6/8 [matplotlib]\n",
      "   ------------------------------ --------- 6/8 [matplotlib]\n",
      "   ------------------------------ --------- 6/8 [matplotlib]\n",
      "   ------------------------------ --------- 6/8 [matplotlib]\n",
      "   ------------------------------ --------- 6/8 [matplotlib]\n",
      "   ------------------------------ --------- 6/8 [matplotlib]\n",
      "   ------------------------------ --------- 6/8 [matplotlib]\n",
      "   ------------------------------ --------- 6/8 [matplotlib]\n",
      "   ------------------------------ --------- 6/8 [matplotlib]\n",
      "   ------------------------------ --------- 6/8 [matplotlib]\n",
      "   ------------------------------ --------- 6/8 [matplotlib]\n",
      "   ------------------------------ --------- 6/8 [matplotlib]\n",
      "   ------------------------------ --------- 6/8 [matplotlib]\n",
      "   ------------------------------ --------- 6/8 [matplotlib]\n",
      "   ------------------------------ --------- 6/8 [matplotlib]\n",
      "   ------------------------------ --------- 6/8 [matplotlib]\n",
      "   ------------------------------ --------- 6/8 [matplotlib]\n",
      "   ------------------------------ --------- 6/8 [matplotlib]\n",
      "   ------------------------------ --------- 6/8 [matplotlib]\n",
      "   ------------------------------ --------- 6/8 [matplotlib]\n",
      "   ------------------------------ --------- 6/8 [matplotlib]\n",
      "   ------------------------------ --------- 6/8 [matplotlib]\n",
      "   ------------------------------ --------- 6/8 [matplotlib]\n",
      "   ------------------------------ --------- 6/8 [matplotlib]\n",
      "   ------------------------------ --------- 6/8 [matplotlib]\n",
      "   ------------------------------ --------- 6/8 [matplotlib]\n",
      "   ------------------------------ --------- 6/8 [matplotlib]\n",
      "   ------------------------------ --------- 6/8 [matplotlib]\n",
      "   ------------------------------ --------- 6/8 [matplotlib]\n",
      "   ------------------------------ --------- 6/8 [matplotlib]\n",
      "   ------------------------------ --------- 6/8 [matplotlib]\n",
      "   ------------------------------ --------- 6/8 [matplotlib]\n",
      "   ------------------------------ --------- 6/8 [matplotlib]\n",
      "   ------------------------------ --------- 6/8 [matplotlib]\n",
      "   ------------------------------ --------- 6/8 [matplotlib]\n",
      "   ------------------------------ --------- 6/8 [matplotlib]\n",
      "   ------------------------------ --------- 6/8 [matplotlib]\n",
      "   ------------------------------ --------- 6/8 [matplotlib]\n",
      "   ------------------------------ --------- 6/8 [matplotlib]\n",
      "   ------------------------------ --------- 6/8 [matplotlib]\n",
      "   ------------------------------ --------- 6/8 [matplotlib]\n",
      "   ------------------------------ --------- 6/8 [matplotlib]\n",
      "   ------------------------------ --------- 6/8 [matplotlib]\n",
      "   ------------------------------ --------- 6/8 [matplotlib]\n",
      "   ------------------------------ --------- 6/8 [matplotlib]\n",
      "   ------------------------------ --------- 6/8 [matplotlib]\n",
      "   ------------------------------ --------- 6/8 [matplotlib]\n",
      "   ------------------------------ --------- 6/8 [matplotlib]\n",
      "   ------------------------------ --------- 6/8 [matplotlib]\n",
      "   ------------------------------ --------- 6/8 [matplotlib]\n",
      "   ------------------------------ --------- 6/8 [matplotlib]\n",
      "   ------------------------------ --------- 6/8 [matplotlib]\n",
      "   ------------------------------ --------- 6/8 [matplotlib]\n",
      "   ------------------------------ --------- 6/8 [matplotlib]\n",
      "   ------------------------------ --------- 6/8 [matplotlib]\n",
      "   ------------------------------ --------- 6/8 [matplotlib]\n",
      "   ------------------------------ --------- 6/8 [matplotlib]\n",
      "   ------------------------------ --------- 6/8 [matplotlib]\n",
      "   ------------------------------ --------- 6/8 [matplotlib]\n",
      "   ------------------------------ --------- 6/8 [matplotlib]\n",
      "   ------------------------------ --------- 6/8 [matplotlib]\n",
      "   ------------------------------ --------- 6/8 [matplotlib]\n",
      "   ------------------------------ --------- 6/8 [matplotlib]\n",
      "   ------------------------------ --------- 6/8 [matplotlib]\n",
      "   ------------------------------ --------- 6/8 [matplotlib]\n",
      "   ------------------------------ --------- 6/8 [matplotlib]\n",
      "   ------------------------------ --------- 6/8 [matplotlib]\n",
      "   ------------------------------ --------- 6/8 [matplotlib]\n",
      "   ------------------------------ --------- 6/8 [matplotlib]\n",
      "   ------------------------------ --------- 6/8 [matplotlib]\n",
      "   ----------------------------------- ---- 7/8 [seaborn]\n",
      "   ----------------------------------- ---- 7/8 [seaborn]\n",
      "   ----------------------------------- ---- 7/8 [seaborn]\n",
      "   ----------------------------------- ---- 7/8 [seaborn]\n",
      "   ----------------------------------- ---- 7/8 [seaborn]\n",
      "   ----------------------------------- ---- 7/8 [seaborn]\n",
      "   ----------------------------------- ---- 7/8 [seaborn]\n",
      "   ----------------------------------- ---- 7/8 [seaborn]\n",
      "   ----------------------------------- ---- 7/8 [seaborn]\n",
      "   ----------------------------------- ---- 7/8 [seaborn]\n",
      "   ----------------------------------- ---- 7/8 [seaborn]\n",
      "   ----------------------------------- ---- 7/8 [seaborn]\n",
      "   ---------------------------------------- 8/8 [seaborn]\n",
      "\n",
      "Successfully installed contourpy-1.3.3 cycler-0.12.1 fonttools-4.59.2 kiwisolver-1.4.9 matplotlib-3.10.6 pillow-11.3.0 pyparsing-3.2.3 seaborn-0.13.2\n"
     ]
    }
   ],
   "source": [
    "!pip install matplotlib seaborn\n"
   ]
  },
  {
   "cell_type": "code",
   "execution_count": 39,
   "id": "311823e1-50c8-4f4a-b133-ec3d8568dcf3",
   "metadata": {},
   "outputs": [
    {
     "data": {
      "image/png": "[encoded data removed]",
      "text/plain": [
       "<Figure size 600x400 with 1 Axes>"
      ]
     },
     "metadata": {},
     "output_type": "display_data"
    },
    {
     "data": {
      "image/png": "[encoded data removed]",
      "text/plain": [
       "<Figure size 500x400 with 2 Axes>"
      ]
     },
     "metadata": {},
     "output_type": "display_data"
    }
   ],
   "source": [
    "import matplotlib.pyplot as plt\n",
    "import seaborn as sns\n",
    "\n",
    "# Model comparison bar chart\n",
    "plt.figure(figsize=(6,4))\n",
    "sns.barplot(x=\"Model\", y=\"Accuracy\", data=results_df)\n",
    "plt.title(\"Model Accuracy Comparison\")\n",
    "plt.show()\n",
    "\n",
    "# Confusion Matrix heatmap (best model)\n",
    "cm = confusion_matrix(y_test, y_pred_best)\n",
    "plt.figure(figsize=(5,4))\n",
    "sns.heatmap(cm, annot=True, fmt=\"d\", cmap=\"Blues\", xticklabels=best_model.classes_, yticklabels=best_model.classes_)\n",
    "plt.title(f\"Confusion Matrix - {best_model_name}\")\n",
    "plt.xlabel(\"Predicted\")\n",
    "plt.ylabel(\"Actual\")\n",
    "plt.show()\n"
   ]
  },
  {
   "cell_type": "code",
   "execution_count": 40,
   "id": "70e5343e-7be7-473a-802c-ff8ed7caa1ab",
   "metadata": {},
   "outputs": [
    {
     "name": "stdout",
     "output_type": "stream",
     "text": [
      "Claim: Our brand is 100% eco-friendly and sustainable in all operations\n",
      "→ Prediction: greenwashing\n",
      "\n",
      "Claim: We offset emissions by planting trees, but no audit is done\n",
      "→ Prediction: genuine\n",
      "\n"
     ]
    }
   ],
   "source": [
    "sample_claims = [\n",
    "    \"Our brand is 100% eco-friendly and sustainable in all operations\",\n",
    "    \"We offset emissions by planting trees, but no audit is done\"\n",
    "]\n",
    "\n",
    "sample_vec = vectorizer.transform(sample_claims)\n",
    "predictions = best_model.predict(sample_vec)\n",
    "\n",
    "for claim, label in zip(sample_claims, predictions):\n",
    "    print(f\"Claim: {claim}\\n→ Prediction: {label}\\n\")\n"
   ]
  },
  {
   "cell_type": "code",
   "execution_count": null,
   "id": "7103f557-5140-4736-8e38-a73cdc6000cd",
   "metadata": {},
   "outputs": [],
   "source": []
  }
 ],
 "metadata": {
  "kernelspec": {
   "display_name": "Python 3 (ipykernel)",
   "language": "python",
   "name": "python3"
  },
  "language_info": {
   "codemirror_mode": {
    "name": "ipython",
    "version": 3
   },
   "file_extension": ".py",
   "mimetype": "text/x-python",
   "name": "python",
   "nbconvert_exporter": "python",
   "pygments_lexer": "ipython3",
   "version": "3.13.7"
  }
 },
 "nbformat": 4,
 "nbformat_minor": 5
}
